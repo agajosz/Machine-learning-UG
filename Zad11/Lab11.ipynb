{
 "cells": [
  {
   "cell_type": "code",
   "execution_count": 1,
   "id": "5f5b4386",
   "metadata": {},
   "outputs": [],
   "source": [
    "import cv2\n",
    "import numpy as np\n",
    "from matplotlib import pyplot as plt\n",
    "import math"
   ]
  },
  {
   "cell_type": "code",
   "execution_count": 2,
   "metadata": {},
   "outputs": [
    {
     "output_type": "execute_result",
     "data": {
      "text/plain": [
       "True"
      ]
     },
     "metadata": {},
     "execution_count": 2
    }
   ],
   "source": [
    "### 0\n",
    "cap = cv2.VideoCapture('video.mov')\n",
    "ret, frame = cap.read()\n",
    "\n",
    "frame = cv2.resize(frame, (800, 560))\n",
    "cv2.imwrite('images/snapshot.png', frame)"
   ]
  },
  {
   "cell_type": "code",
   "execution_count": 3,
   "id": "0b110787",
   "metadata": {},
   "outputs": [],
   "source": [
    "### 1\n",
    "img = cv2.imread('images/snapshot.png', cv2.IMREAD_GRAYSCALE)\n",
    "\n",
    "cv2.imwrite('images/snapshot-grayscale.png', img)\n",
    "cv2.imshow('Snapshot - grayscale', img)\n",
    "cv2.waitKey(0)\n",
    "\n",
    "cv2.destroyAllWindows()\n"
   ]
  },
  {
   "cell_type": "code",
   "execution_count": 4,
   "id": "b4fa2e3e",
   "metadata": {},
   "outputs": [],
   "source": [
    "### 2\n",
    "img = cv2.imread('images/snapshot-grayscale.png')\n",
    "\n",
    "blur_kernel_size = (15,15)\n",
    "\n",
    "gray_blur = cv2.GaussianBlur(img, blur_kernel_size,0)\n",
    "cv2.imwrite('images/snapshot-blur.png', gray_blur)\n",
    "cv2.imshow(\"Snapshot - blur\", gray_blur)\n",
    "cv2.waitKey(0)\n",
    "\n",
    "cv2.destroyAllWindows()\n"
   ]
  },
  {
   "cell_type": "code",
   "execution_count": 5,
   "id": "e73feeb3",
   "metadata": {},
   "outputs": [],
   "source": [
    "### 3\n",
    "img = cv2.imread('images/snapshot-blur.png')\n",
    "#img = cv2.imread('images/snapshot-grayscale.png')\n",
    "\n",
    "\n",
    "canny_low_threshold = 50\n",
    "cann_high_threshold = 100\n",
    "\n",
    "blur_Canny = cv2.Canny(img, canny_low_threshold, cann_high_threshold)\n",
    "cv2.imwrite('images/snapshot-canny.png', blur_Canny)\n",
    "cv2.imshow('Snapshot - Canny', blur_Canny)\n",
    "cv2.waitKey(0)\n",
    "\n",
    "cv2.destroyAllWindows()\n"
   ]
  },
  {
   "cell_type": "code",
   "execution_count": 6,
   "id": "53a2a907",
   "metadata": {},
   "outputs": [],
   "source": [
    "### 4\n",
    "img = cv2.imread('images/snapshot-canny.png')\n",
    "\n",
    "canny_low_threshold = 50\n",
    "cann_high_threshold = 200\n",
    "\n",
    "img = cv2.resize(img, (800,560))\n",
    "h=200\n",
    "w=700\n",
    "x=350\n",
    "y=0\n",
    "\n",
    "img1 = img[x:x+h, y:y+w]\n",
    "img2 = np.zeros_like(img)\n",
    "img2[x:x+h, y:y+w] = img1\n",
    "\n",
    "cv2.imwrite('images/snapshot-canny.png', img2)\n",
    "cv2.imshow(\"Snapshot - canny\", img2)\n",
    "cv2.waitKey(0)\n",
    "\n",
    "cv2.destroyAllWindows()\n"
   ]
  },
  {
   "cell_type": "code",
   "execution_count": 7,
   "metadata": {},
   "outputs": [],
   "source": [
    "### 5\n",
    "cv2.startWindowThread()\n",
    "snapshot = cv2.imread('images/snapshot.png')\n",
    "img = cv2.imread('images/snapshot-canny.png')\n",
    "\n",
    "dst = cv2.Canny(img, 50, 200, None, 3)\n",
    "cdst = cv2.cvtColor(dst, cv2.COLOR_GRAY2BGR)\n",
    "cdstP = np.copy(cdst)\n",
    "\n",
    "lines = cv2.HoughLines(dst, 1, np.pi / 180, 150, None, 0,0)\n",
    "if lines is not None:\n",
    "    for i in range(0,len(lines)):\n",
    "        rho = lines[i][0][0]\n",
    "        theta = lines[i][0][1]\n",
    "        a = math.cos(theta)\n",
    "        b = math.sin(theta)\n",
    "        x0 = a * rho\n",
    "        y0 = b * rho\n",
    "        pt1 = (int (x0 +1000 *(-b)), int(y0 + 1000*(a)))\n",
    "        pt2 = (int (x0 -1000 *(-b)), int(y0 - 1000*(a)))\n",
    "        cv2.line(cdst, pt1, pt2, (0,0,255),3, cv2.LINE_AA)\n",
    "\n",
    "linesP = cv2.HoughLinesP(dst, 1, np.pi / 180, 50, 50, 10)\n",
    "if linesP is not None:\n",
    "    for i in range(0,len(linesP)):\n",
    "        l = linesP[i][0]\n",
    "        cv2.line(cdstP,(l[0],l[1]), (l[2],l[3]), (0,0,255),3,cv2.LINE_AA)\n",
    "    \n",
    "doubleim = cv2.addWeighted(snapshot, 0.8, cdstP, 1,0)\n",
    "cv2.imwrite('images/final.png', doubleim)\n",
    "cv2.imshow('Final', doubleim)\n",
    "cv2.waitKey(0)\n",
    "\n",
    "cv2.destroyAllWindows()"
   ]
  },
  {
   "cell_type": "code",
   "execution_count": 8,
   "metadata": {},
   "outputs": [],
   "source": [
    "### video\n",
    "hog = cv2.HOGDescriptor()\n",
    "cv2.startWindowThread()\n",
    "cap = cv2.VideoCapture('video.mov')\n",
    "while True:\n",
    "    ret, frame = cap.read()\n",
    "    \n",
    "    frame = cv2.resize(frame, (800,560))\n",
    "\n",
    "    dst = cv2.Canny(frame,50,200,None,3)\n",
    "    cdst = cv2.cvtColor(dst, cv2.COLOR_GRAY2BGR)\n",
    "    \n",
    "    cdstP=np.copy(cdst)\n",
    "    lines = cv2.HoughLines(dst, 1, np.pi / 180, 150, None, 0,0)\n",
    "    if lines is not None:\n",
    "        for i in range(0,len(lines)):\n",
    "            rho = lines[i][0][0]\n",
    "            theta = lines[i][0][1]\n",
    "            a = math.cos(theta)\n",
    "            b = math.sin(theta)\n",
    "            x0 = a * rho\n",
    "            y0 = b * rho\n",
    "            pt1 = (int (x0 +1000 *(-b)), int(y0 + 1000*(a)))\n",
    "            pt2 = (int (x0 -1000 *(-b)), int(y0 - 1000*(a)))\n",
    "            cv2.line(cdst, pt1, pt2, (0,0,255),3, cv2.LINE_AA)\n",
    "    linesP = cv2.HoughLinesP(dst, 1, np.pi / 180, 50, 50, 10)\n",
    "    if linesP is not None:\n",
    "        for i in range(0,len(linesP)):\n",
    "            l=linesP[i][0]\n",
    "            cv2.line(cdstP,(l[0],l[1]), (l[2],l[3]), (0,0,255),3,cv2.LINE_AA)\n",
    "    \n",
    "    doubleim=cv2.addWeighted(frame, 0.8, cdstP,1,0)\n",
    "    cv2.imshow(\"Video\", doubleim)\n",
    "    k = cv2.waitKey(33)\n",
    "    if k == -1:\n",
    "        continue\n",
    "    else:\n",
    "        break\n",
    "cap.release()\n",
    "cv2.destroyAllWindows()\n"
   ]
  },
  {
   "cell_type": "code",
   "execution_count": null,
   "metadata": {},
   "outputs": [],
   "source": []
  }
 ],
 "metadata": {
  "kernelspec": {
   "name": "python392jvsc74a57bd07812ea015bdcee6f23a998adcdd2ef97c151c0c241b7b7070987d9313e41299d",
   "display_name": "Python 3.9.2 64-bit ('3.9')"
  },
  "language_info": {
   "codemirror_mode": {
    "name": "ipython",
    "version": 3
   },
   "file_extension": ".py",
   "mimetype": "text/x-python",
   "name": "python",
   "nbconvert_exporter": "python",
   "pygments_lexer": "ipython3",
   "version": "3.9.2"
  },
  "metadata": {
   "interpreter": {
    "hash": "7812ea015bdcee6f23a998adcdd2ef97c151c0c241b7b7070987d9313e41299d"
   }
  }
 },
 "nbformat": 4,
 "nbformat_minor": 5
}