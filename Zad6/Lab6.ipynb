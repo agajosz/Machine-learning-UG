{
 "cells": [
  {
   "cell_type": "code",
   "execution_count": 1,
   "metadata": {},
   "outputs": [],
   "source": [
    "from sklearn import datasets, metrics\n",
    "from scipy.sparse import csr_matrix\n",
    "from sklearn.preprocessing import StandardScaler\n",
    "from sklearn.model_selection import KFold, cross_val_score, train_test_split\n",
    "from sklearn.pipeline import make_pipeline\n",
    "from sklearn.linear_model  import LogisticRegression, LinearRegression\n",
    "from sklearn.dummy import DummyRegressor\n",
    "from sklearn.ensemble import RandomForestClassifier\n",
    "import numpy as np\n",
    "from sklearn.cluster import KMeans\n",
    "\n"
   ]
  },
  {
   "cell_type": "code",
   "execution_count": 2,
   "metadata": {},
   "outputs": [],
   "source": [
    "wine = datasets.load_wine()\n",
    "data, target = wine.data, wine.target\n",
    "standardizer = StandardScaler()"
   ]
  },
  {
   "cell_type": "code",
   "execution_count": 3,
   "metadata": {},
   "outputs": [
    {
     "output_type": "stream",
     "name": "stdout",
     "text": [
      "K-krotny sprawdzian krzyżowy:  0.9826797385620916\n"
     ]
    }
   ],
   "source": [
    "#krzyzowy K-krotny\n",
    "logReg = LogisticRegression()\n",
    "pipeline = make_pipeline(standardizer, logReg)\n",
    "kf = KFold(n_splits=10, shuffle=True, random_state=1)\n",
    "cv_results = cross_val_score(pipeline,\n",
    "                             data,\n",
    "                             target,\n",
    "                             cv=kf,\n",
    "                             scoring='accuracy',\n",
    "                             n_jobs=-1)\n",
    "\n",
    "print(\"K-krotny sprawdzian krzyżowy: \",cv_results.mean())\n"
   ]
  },
  {
   "cell_type": "code",
   "execution_count": 4,
   "metadata": {},
   "outputs": [
    {
     "output_type": "stream",
     "name": "stdout",
     "text": [
      "Regresja bazowa:  0.804353263176954\n"
     ]
    }
   ],
   "source": [
    "#train_test regresja bazowa\n",
    "data_train, data_test, target_train, target_test = train_test_split(data, target, random_state=0)\n",
    "lr = LinearRegression()\n",
    "lr.fit(data_train, target_train)\n",
    "\n",
    "print(\"Regresja bazowa: \",lr.score(data_test, target_test))"
   ]
  },
  {
   "cell_type": "code",
   "execution_count": 5,
   "metadata": {},
   "outputs": [
    {
     "output_type": "stream",
     "name": "stdout",
     "text": [
      "Klasyfikacja bazowa:  0.9777777777777777\n"
     ]
    }
   ],
   "source": [
    "#train_test klasyfikacja bazowa\n",
    "data_train, data_test, target_train, target_test = train_test_split(data, target, random_state=0)\n",
    "rfc = RandomForestClassifier()\n",
    "rfc.fit(data_train, target_train)\n",
    "\n",
    "print(\"Klasyfikacja bazowa: \",rfc.score(data_test, target_test))"
   ]
  },
  {
   "cell_type": "code",
   "execution_count": 6,
   "metadata": {},
   "outputs": [
    {
     "output_type": "stream",
     "name": "stdout",
     "text": [
      "Klasyfikator binarny:  0.7923809523809523\n"
     ]
    }
   ],
   "source": [
    "#klasyfikator binarny\n",
    "lr = LogisticRegression()\n",
    "X, y = datasets.make_classification(n_samples = 178,\n",
    "                          n_features = 14,\n",
    "                          n_informative = 13,\n",
    "                          n_redundant = 0,\n",
    "                          n_classes = 3,\n",
    "                          random_state = 1)\n",
    "cv_results = cross_val_score(lr, X, y, scoring='accuracy')\n",
    "\n",
    "print(\"Klasyfikator binarny: \",cv_results.mean())"
   ]
  },
  {
   "cell_type": "code",
   "execution_count": 7,
   "metadata": {},
   "outputs": [
    {
     "output_type": "stream",
     "name": "stdout",
     "text": [
      "Klasteryzacja:  0.9115977723044779\n"
     ]
    }
   ],
   "source": [
    "#klasteryzacja\n",
    "data, _ = datasets.make_blobs(n_samples = 178,\n",
    "                             n_features = 14,\n",
    "                             centers = 3,\n",
    "                             cluster_std = 0.5,\n",
    "                             shuffle = True,\n",
    "                             random_state = 1)\n",
    "model = KMeans(n_clusters=3, random_state=1).fit(data)\n",
    "\n",
    "print(\"Klasteryzacja: \",metrics.silhouette_score(data, model.labels_))"
   ]
  },
  {
   "cell_type": "code",
   "execution_count": null,
   "metadata": {},
   "outputs": [],
   "source": []
  }
 ],
 "metadata": {
  "kernelspec": {
   "name": "python385jvsc74a57bd0cf85bdc39399bcc8b3158ec91ef410d6105df52f6ac9a925bca81d67af95fad9",
   "display_name": "Python 3.8.5 64-bit ('anaconda3': virtualenv)"
  },
  "language_info": {
   "codemirror_mode": {
    "name": "ipython",
    "version": 3
   },
   "file_extension": ".py",
   "mimetype": "text/x-python",
   "name": "python",
   "nbconvert_exporter": "python",
   "pygments_lexer": "ipython3",
   "version": "3.8.5"
  }
 },
 "nbformat": 4,
 "nbformat_minor": 4
}