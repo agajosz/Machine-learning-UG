{
 "metadata": {
  "language_info": {
   "codemirror_mode": {
    "name": "ipython",
    "version": 3
   },
   "file_extension": ".py",
   "mimetype": "text/x-python",
   "name": "python",
   "nbconvert_exporter": "python",
   "pygments_lexer": "ipython3",
   "version": "3.9.2"
  },
  "orig_nbformat": 2,
  "kernelspec": {
   "name": "python392jvsc74a57bd0aee8b7b246df8f9039afb4144a1f6fd8d2ca17a180786b69acc140d282b71a49",
   "display_name": "Python 3.9.2 64-bit"
  },
  "metadata": {
   "interpreter": {
    "hash": "aee8b7b246df8f9039afb4144a1f6fd8d2ca17a180786b69acc140d282b71a49"
   }
  }
 },
 "nbformat": 4,
 "nbformat_minor": 2,
 "cells": [
  {
   "cell_type": "code",
   "execution_count": 1,
   "metadata": {},
   "outputs": [
    {
     "output_type": "stream",
     "name": "stderr",
     "text": [
      "[nltk_data] Downloading package brown to\n",
      "[nltk_data]     /Users/adriangajosz/nltk_data...\n",
      "[nltk_data]   Unzipping corpora/brown.zip.\n"
     ]
    }
   ],
   "source": [
    "import nltk\n",
    "nltk.download('brown')\n",
    "from nltk.corpus import brown\n",
    "from nltk.tag import UnigramTagger\n",
    "from nltk.tag import BigramTagger\n",
    "from nltk.tag import TrigramTagger \n",
    "import math"
   ]
  },
  {
   "cell_type": "code",
   "execution_count": 4,
   "metadata": {},
   "outputs": [
    {
     "output_type": "stream",
     "name": "stdout",
     "text": [
      "adventure 0.8037854675966682\n",
      "belles_lettres 0.8290836653386454\n",
      "editorial 0.7807931539954835\n",
      "fiction 0.814473501182362\n",
      "government 0.7901828681424446\n",
      "hobbies 0.7556287108341662\n",
      "humor 0.703108504398827\n",
      "learned 0.8021168827593801\n",
      "lore 0.7966218694048364\n",
      "mystery 0.8034173356802473\n",
      "news 0.7883804198548165\n",
      "religion 0.7555392516507704\n",
      "reviews 0.7040574244175436\n",
      "romance 0.8127531882970742\n",
      "science_fiction 0.6877828054298643\n"
     ]
    }
   ],
   "source": [
    "\n",
    "for category in brown.categories():\n",
    "    text = brown.tagged_sents(categories = category)\n",
    "\n",
    "    split = math.floor(len(text) * 0.6)\n",
    "    train = text[:split]\n",
    "    test = text[split:]\n",
    "\n",
    "    unigram = UnigramTagger(train)\n",
    "    bigram = BigramTagger(train, backoff=unigram)\n",
    "    trigram = TrigramTagger(train, backoff=bigram)\n",
    "\n",
    "    print(category, trigram.evaluate(test))"
   ]
  },
  {
   "cell_type": "code",
   "execution_count": null,
   "metadata": {},
   "outputs": [],
   "source": []
  }
 ]
}